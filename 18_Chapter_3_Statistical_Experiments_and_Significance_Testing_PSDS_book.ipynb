{
  "nbformat": 4,
  "nbformat_minor": 0,
  "metadata": {
    "colab": {
      "name": "24_Chapter_3_Statistical_Experiments_and_Significance_Testing_PSDS_book",
      "provenance": [],
      "collapsed_sections": []
    },
    "kernelspec": {
      "name": "python3",
      "display_name": "Python 3"
    },
    "language_info": {
      "name": "python"
    }
  },
  "cells": [
    {
      "cell_type": "code",
      "metadata": {
        "id": "LGSCRCKR2BJY"
      },
      "source": [
        "import pandas as pd\n",
        "import numpy as np\n",
        "import matplotlib.pyplot as plt\n",
        "%matplotlib inline"
      ],
      "execution_count": 1,
      "outputs": []
    },
    {
      "cell_type": "markdown",
      "metadata": {
        "id": "WZMbG6Sx2V_g"
      },
      "source": [
        "#**Statistical Experiments and Significance Testing**"
      ]
    },
    {
      "cell_type": "code",
      "metadata": {
        "id": "qMxJZY2n2LfP"
      },
      "source": [
        "df = pd.read_csv('/content/sample_data/web_page_data.csv')\n",
        "page_a = df[df['Page']=='Page A']\n",
        "page_b = df[df['Page']=='Page B']"
      ],
      "execution_count": 2,
      "outputs": []
    },
    {
      "cell_type": "code",
      "metadata": {
        "colab": {
          "base_uri": "https://localhost:8080/"
        },
        "id": "kKR-AF2o3diB",
        "outputId": "1362c267-98bc-4dcd-a1ca-f7a1108fac96"
      },
      "source": [
        "page_a.Time.mean() - page_b.Time.mean()"
      ],
      "execution_count": 3,
      "outputs": [
        {
          "output_type": "execute_result",
          "data": {
            "text/plain": [
              "-0.35666666666666713"
            ]
          },
          "metadata": {},
          "execution_count": 3
        }
      ]
    },
    {
      "cell_type": "code",
      "metadata": {
        "colab": {
          "base_uri": "https://localhost:8080/",
          "height": 545
        },
        "id": "tR1Dy5Nr3gJZ",
        "outputId": "ee1d79a0-020e-4fb9-8ebb-4eeddf702bc0"
      },
      "source": [
        "page_a.plot(kind='box',title='Page A')\n",
        "page_b.plot(kind='box',title=\"Page B\")\n",
        "plt.show()"
      ],
      "execution_count": 4,
      "outputs": [
        {
          "output_type": "display_data",
          "data": {
            "image/png": "[encoded data removed]",
            "text/plain": [
              "<Figure size 432x288 with 1 Axes>"
            ]
          },
          "metadata": {
            "needs_background": "light"
          }
        },
        {
          "output_type": "display_data",
          "data": {
            "image/png": "[encoded data removed]",
            "text/plain": [
              "<Figure size 432x288 with 1 Axes>"
            ]
          },
          "metadata": {
            "needs_background": "light"
          }
        }
      ]
    },
    {
      "cell_type": "markdown",
      "metadata": {
        "id": "jM2lk5Zl3lxT"
      },
      "source": [
        "\n",
        "##Statistical Significan and P-Values:\n",
        "\n",
        "\n",
        "*   Statistical significance is how statisticians measure whether an experiement yeilds a result more extreme than what chance might product. ### What is P-Value and Alpha?\n",
        "*   Given a chance model that embodies the null hypothesis, the p-value is the probability of obtaining results as unusual or extreme as the observed results\n",
        "\n",
        "* Alpha is the probability threshold of 'unusualness' that chance results might surpass, for actual outcomes to be deemed statistically significant.\n"
      ]
    },
    {
      "cell_type": "code",
      "metadata": {
        "id": "dA6aGaIm3iiP"
      },
      "source": [
        ""
      ],
      "execution_count": null,
      "outputs": []
    }
  ]
}